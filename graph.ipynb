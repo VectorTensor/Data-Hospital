{
 "cells": [
  {
   "cell_type": "code",
   "execution_count": 1,
   "metadata": {},
   "outputs": [],
   "source": [
    "import matplotlib.pyplot as plt\n",
    "import pandas as pd\n",
    "import sqlite3"
   ]
  },
  {
   "cell_type": "code",
   "execution_count": 2,
   "metadata": {},
   "outputs": [
    {
     "data": {
      "text/html": [
       "<div>\n",
       "<style scoped>\n",
       "    .dataframe tbody tr th:only-of-type {\n",
       "        vertical-align: middle;\n",
       "    }\n",
       "\n",
       "    .dataframe tbody tr th {\n",
       "        vertical-align: top;\n",
       "    }\n",
       "\n",
       "    .dataframe thead th {\n",
       "        text-align: right;\n",
       "    }\n",
       "</style>\n",
       "<table border=\"1\" class=\"dataframe\">\n",
       "  <thead>\n",
       "    <tr style=\"text-align: right;\">\n",
       "      <th></th>\n",
       "      <th>Date_of_data</th>\n",
       "      <th>RBC</th>\n",
       "      <th>Glucose</th>\n",
       "      <th>protein</th>\n",
       "      <th>Total_count</th>\n",
       "      <th>color</th>\n",
       "      <th>App</th>\n",
       "      <th>ada</th>\n",
       "    </tr>\n",
       "  </thead>\n",
       "  <tbody>\n",
       "    <tr>\n",
       "      <th>0</th>\n",
       "      <td>2022/04/01</td>\n",
       "      <td>6250.0</td>\n",
       "      <td>31</td>\n",
       "      <td>NaN</td>\n",
       "      <td>135.0</td>\n",
       "      <td>light yellow</td>\n",
       "      <td>turbid</td>\n",
       "      <td>1.53</td>\n",
       "    </tr>\n",
       "    <tr>\n",
       "      <th>1</th>\n",
       "      <td>2022/04/7</td>\n",
       "      <td>800.0</td>\n",
       "      <td>51</td>\n",
       "      <td>475.0</td>\n",
       "      <td>10.0</td>\n",
       "      <td>light yellow</td>\n",
       "      <td>slightly turbid</td>\n",
       "      <td>NaN</td>\n",
       "    </tr>\n",
       "    <tr>\n",
       "      <th>2</th>\n",
       "      <td>2022/04/6</td>\n",
       "      <td>NaN</td>\n",
       "      <td>40</td>\n",
       "      <td>NaN</td>\n",
       "      <td>NaN</td>\n",
       "      <td>light yellow</td>\n",
       "      <td>None</td>\n",
       "      <td>NaN</td>\n",
       "    </tr>\n",
       "    <tr>\n",
       "      <th>3</th>\n",
       "      <td>2022/04/10</td>\n",
       "      <td>450.0</td>\n",
       "      <td>44</td>\n",
       "      <td>417.0</td>\n",
       "      <td>18.0</td>\n",
       "      <td>light yellow</td>\n",
       "      <td>clear</td>\n",
       "      <td>NaN</td>\n",
       "    </tr>\n",
       "    <tr>\n",
       "      <th>4</th>\n",
       "      <td>2022/04/13</td>\n",
       "      <td>900.0</td>\n",
       "      <td>57</td>\n",
       "      <td>456.0</td>\n",
       "      <td>6.0</td>\n",
       "      <td>light yellow</td>\n",
       "      <td>ST</td>\n",
       "      <td>NaN</td>\n",
       "    </tr>\n",
       "    <tr>\n",
       "      <th>5</th>\n",
       "      <td>2022/04/16</td>\n",
       "      <td>210.0</td>\n",
       "      <td>77</td>\n",
       "      <td>317.0</td>\n",
       "      <td>120.0</td>\n",
       "      <td>slightly yellow</td>\n",
       "      <td>clear</td>\n",
       "      <td>NaN</td>\n",
       "    </tr>\n",
       "    <tr>\n",
       "      <th>6</th>\n",
       "      <td>2022/04/19</td>\n",
       "      <td>3150.0</td>\n",
       "      <td>83</td>\n",
       "      <td>298.0</td>\n",
       "      <td>35.0</td>\n",
       "      <td>light yellow</td>\n",
       "      <td>Turbid</td>\n",
       "      <td>NaN</td>\n",
       "    </tr>\n",
       "    <tr>\n",
       "      <th>7</th>\n",
       "      <td>2022/04/22</td>\n",
       "      <td>200.0</td>\n",
       "      <td>110</td>\n",
       "      <td>325.0</td>\n",
       "      <td>13.0</td>\n",
       "      <td>yellow</td>\n",
       "      <td>slightly turbid</td>\n",
       "      <td>NaN</td>\n",
       "    </tr>\n",
       "    <tr>\n",
       "      <th>8</th>\n",
       "      <td>2022/04/23</td>\n",
       "      <td>150.0</td>\n",
       "      <td>87</td>\n",
       "      <td>305.0</td>\n",
       "      <td>3.0</td>\n",
       "      <td>light yellow</td>\n",
       "      <td>clear</td>\n",
       "      <td>NaN</td>\n",
       "    </tr>\n",
       "    <tr>\n",
       "      <th>9</th>\n",
       "      <td>2022/04/25</td>\n",
       "      <td>900.0</td>\n",
       "      <td>69</td>\n",
       "      <td>480.0</td>\n",
       "      <td>3.0</td>\n",
       "      <td>light yellow</td>\n",
       "      <td>slightly turbid</td>\n",
       "      <td>NaN</td>\n",
       "    </tr>\n",
       "    <tr>\n",
       "      <th>10</th>\n",
       "      <td>2022/04/30</td>\n",
       "      <td>1500.0</td>\n",
       "      <td>68</td>\n",
       "      <td>452.0</td>\n",
       "      <td>10.0</td>\n",
       "      <td>yellowish</td>\n",
       "      <td>slightly turbid</td>\n",
       "      <td>NaN</td>\n",
       "    </tr>\n",
       "  </tbody>\n",
       "</table>\n",
       "</div>"
      ],
      "text/plain": [
       "   Date_of_data     RBC  Glucose  protein  Total_count            color  \\\n",
       "0    2022/04/01  6250.0       31      NaN        135.0     light yellow   \n",
       "1     2022/04/7   800.0       51    475.0         10.0     light yellow   \n",
       "2     2022/04/6     NaN       40      NaN          NaN     light yellow   \n",
       "3    2022/04/10   450.0       44    417.0         18.0     light yellow   \n",
       "4    2022/04/13   900.0       57    456.0          6.0     light yellow   \n",
       "5    2022/04/16   210.0       77    317.0        120.0  slightly yellow   \n",
       "6    2022/04/19  3150.0       83    298.0         35.0     light yellow   \n",
       "7    2022/04/22   200.0      110    325.0         13.0           yellow   \n",
       "8    2022/04/23   150.0       87    305.0          3.0     light yellow   \n",
       "9    2022/04/25   900.0       69    480.0          3.0     light yellow   \n",
       "10   2022/04/30  1500.0       68    452.0         10.0        yellowish   \n",
       "\n",
       "                App   ada  \n",
       "0            turbid  1.53  \n",
       "1   slightly turbid   NaN  \n",
       "2              None   NaN  \n",
       "3             clear   NaN  \n",
       "4                ST   NaN  \n",
       "5             clear   NaN  \n",
       "6            Turbid   NaN  \n",
       "7   slightly turbid   NaN  \n",
       "8             clear   NaN  \n",
       "9   slightly turbid   NaN  \n",
       "10  slightly turbid   NaN  "
      ]
     },
     "execution_count": 2,
     "metadata": {},
     "output_type": "execute_result"
    }
   ],
   "source": [
    "db = sqlite3.connect(\"Hospital.db\")\n",
    "data = pd.read_sql_query(\"select * from csf_fluid_data\",db)\n",
    "data"
   ]
  },
  {
   "cell_type": "code",
   "execution_count": 3,
   "metadata": {},
   "outputs": [],
   "source": [
    "\n",
    "x=data['Date_of_data']\n"
   ]
  },
  {
   "cell_type": "code",
   "execution_count": 4,
   "metadata": {},
   "outputs": [
    {
     "data": {
      "image/png": "[encoded data removed]",
      "text/plain": [
       "<Figure size 432x288 with 1 Axes>"
      ]
     },
     "metadata": {
      "needs_background": "light"
     },
     "output_type": "display_data"
    }
   ],
   "source": [
    "# Graph for RBC\n",
    "y=data['RBC']\n",
    "fig, ax = plt.subplots()\n",
    "ax.plot_date(x,y)\n",
    "fig.autofmt_xdate()\n"
   ]
  },
  {
   "cell_type": "code",
   "execution_count": 5,
   "metadata": {},
   "outputs": [
    {
     "data": {
      "image/png": "[encoded data removed]",
      "text/plain": [
       "<Figure size 432x288 with 1 Axes>"
      ]
     },
     "metadata": {
      "needs_background": "light"
     },
     "output_type": "display_data"
    }
   ],
   "source": [
    "# graph for glucose\n",
    "y=data['Glucose']\n",
    "fig, ax = plt.subplots()\n",
    "ax.plot_date(x,y)\n",
    "fig.autofmt_xdate()\n"
   ]
  },
  {
   "cell_type": "code",
   "execution_count": 6,
   "metadata": {},
   "outputs": [
    {
     "data": {
      "image/png": "[encoded data removed]",
      "text/plain": [
       "<Figure size 432x288 with 1 Axes>"
      ]
     },
     "metadata": {
      "needs_background": "light"
     },
     "output_type": "display_data"
    }
   ],
   "source": [
    "# graph for Protein\n",
    "y=data['protein']\n",
    "fig, ax = plt.subplots()\n",
    "ax.plot_date(x,y)\n",
    "fig.autofmt_xdate()\n",
    "\n"
   ]
  },
  {
   "cell_type": "code",
   "execution_count": 7,
   "metadata": {},
   "outputs": [
    {
     "data": {
      "image/png": "[encoded data removed]",
      "text/plain": [
       "<Figure size 432x288 with 1 Axes>"
      ]
     },
     "metadata": {
      "needs_background": "light"
     },
     "output_type": "display_data"
    }
   ],
   "source": [
    "#Graph for total counnt\n",
    "y=data['Total_count']\n",
    "fig, ax = plt.subplots()\n",
    "ax.plot_date(x,y)\n",
    "fig.autofmt_xdate()\n"
   ]
  },
  {
   "cell_type": "code",
   "execution_count": 8,
   "metadata": {},
   "outputs": [
    {
     "data": {
      "text/html": [
       "<div>\n",
       "<style scoped>\n",
       "    .dataframe tbody tr th:only-of-type {\n",
       "        vertical-align: middle;\n",
       "    }\n",
       "\n",
       "    .dataframe tbody tr th {\n",
       "        vertical-align: top;\n",
       "    }\n",
       "\n",
       "    .dataframe thead th {\n",
       "        text-align: right;\n",
       "    }\n",
       "</style>\n",
       "<table border=\"1\" class=\"dataframe\">\n",
       "  <thead>\n",
       "    <tr style=\"text-align: right;\">\n",
       "      <th></th>\n",
       "      <th>date_of_data</th>\n",
       "      <th>total_protein</th>\n",
       "      <th>albumin</th>\n",
       "      <th>alt_sgpt</th>\n",
       "      <th>ast_sgot</th>\n",
       "      <th>bibirubin_total</th>\n",
       "      <th>bilirubin_congugated</th>\n",
       "      <th>bilirubin_uncongugated</th>\n",
       "      <th>alkaline_phospahase</th>\n",
       "    </tr>\n",
       "  </thead>\n",
       "  <tbody>\n",
       "    <tr>\n",
       "      <th>0</th>\n",
       "      <td>2022/04/12</td>\n",
       "      <td>6.2</td>\n",
       "      <td>3.3</td>\n",
       "      <td>42.0</td>\n",
       "      <td>34.0</td>\n",
       "      <td>1.1</td>\n",
       "      <td>0.2</td>\n",
       "      <td>0.9</td>\n",
       "      <td>130.0</td>\n",
       "    </tr>\n",
       "    <tr>\n",
       "      <th>1</th>\n",
       "      <td>2022/04/14</td>\n",
       "      <td>6.3</td>\n",
       "      <td>3.5</td>\n",
       "      <td>45.0</td>\n",
       "      <td>41.0</td>\n",
       "      <td>0.8</td>\n",
       "      <td>0.2</td>\n",
       "      <td>0.6</td>\n",
       "      <td>133.0</td>\n",
       "    </tr>\n",
       "    <tr>\n",
       "      <th>2</th>\n",
       "      <td>2022/04/17</td>\n",
       "      <td>6.8</td>\n",
       "      <td>3.8</td>\n",
       "      <td>130.0</td>\n",
       "      <td>126.0</td>\n",
       "      <td>0.6</td>\n",
       "      <td>0.2</td>\n",
       "      <td>0.4</td>\n",
       "      <td>151.0</td>\n",
       "    </tr>\n",
       "    <tr>\n",
       "      <th>3</th>\n",
       "      <td>2022/04/20</td>\n",
       "      <td>5.5</td>\n",
       "      <td>3.0</td>\n",
       "      <td>737.0</td>\n",
       "      <td>995.0</td>\n",
       "      <td>0.8</td>\n",
       "      <td>0.2</td>\n",
       "      <td>0.6</td>\n",
       "      <td>144.0</td>\n",
       "    </tr>\n",
       "    <tr>\n",
       "      <th>4</th>\n",
       "      <td>2022/04/21</td>\n",
       "      <td>4.8</td>\n",
       "      <td>2.6</td>\n",
       "      <td>384.0</td>\n",
       "      <td>304.0</td>\n",
       "      <td>0.6</td>\n",
       "      <td>0.1</td>\n",
       "      <td>0.5</td>\n",
       "      <td>131.0</td>\n",
       "    </tr>\n",
       "    <tr>\n",
       "      <th>5</th>\n",
       "      <td>2022/04/25</td>\n",
       "      <td>NaN</td>\n",
       "      <td>NaN</td>\n",
       "      <td>159.0</td>\n",
       "      <td>65.0</td>\n",
       "      <td>NaN</td>\n",
       "      <td>NaN</td>\n",
       "      <td>NaN</td>\n",
       "      <td>NaN</td>\n",
       "    </tr>\n",
       "    <tr>\n",
       "      <th>6</th>\n",
       "      <td>2022/04/27</td>\n",
       "      <td>6.2</td>\n",
       "      <td>3.5</td>\n",
       "      <td>89.0</td>\n",
       "      <td>32.0</td>\n",
       "      <td>1.1</td>\n",
       "      <td>0.2</td>\n",
       "      <td>0.9</td>\n",
       "      <td>187.0</td>\n",
       "    </tr>\n",
       "    <tr>\n",
       "      <th>7</th>\n",
       "      <td>2022/04/29</td>\n",
       "      <td>NaN</td>\n",
       "      <td>NaN</td>\n",
       "      <td>49.0</td>\n",
       "      <td>21.0</td>\n",
       "      <td>NaN</td>\n",
       "      <td>NaN</td>\n",
       "      <td>NaN</td>\n",
       "      <td>NaN</td>\n",
       "    </tr>\n",
       "    <tr>\n",
       "      <th>8</th>\n",
       "      <td>2022/05/01</td>\n",
       "      <td>NaN</td>\n",
       "      <td>NaN</td>\n",
       "      <td>33.0</td>\n",
       "      <td>24.0</td>\n",
       "      <td>NaN</td>\n",
       "      <td>NaN</td>\n",
       "      <td>NaN</td>\n",
       "      <td>NaN</td>\n",
       "    </tr>\n",
       "  </tbody>\n",
       "</table>\n",
       "</div>"
      ],
      "text/plain": [
       "  date_of_data  total_protein  albumin  alt_sgpt  ast_sgot  bibirubin_total  \\\n",
       "0   2022/04/12            6.2      3.3      42.0      34.0              1.1   \n",
       "1   2022/04/14            6.3      3.5      45.0      41.0              0.8   \n",
       "2   2022/04/17            6.8      3.8     130.0     126.0              0.6   \n",
       "3   2022/04/20            5.5      3.0     737.0     995.0              0.8   \n",
       "4   2022/04/21            4.8      2.6     384.0     304.0              0.6   \n",
       "5   2022/04/25            NaN      NaN     159.0      65.0              NaN   \n",
       "6   2022/04/27            6.2      3.5      89.0      32.0              1.1   \n",
       "7   2022/04/29            NaN      NaN      49.0      21.0              NaN   \n",
       "8   2022/05/01            NaN      NaN      33.0      24.0              NaN   \n",
       "\n",
       "   bilirubin_congugated  bilirubin_uncongugated  alkaline_phospahase  \n",
       "0                   0.2                     0.9                130.0  \n",
       "1                   0.2                     0.6                133.0  \n",
       "2                   0.2                     0.4                151.0  \n",
       "3                   0.2                     0.6                144.0  \n",
       "4                   0.1                     0.5                131.0  \n",
       "5                   NaN                     NaN                  NaN  \n",
       "6                   0.2                     0.9                187.0  \n",
       "7                   NaN                     NaN                  NaN  \n",
       "8                   NaN                     NaN                  NaN  "
      ]
     },
     "execution_count": 8,
     "metadata": {},
     "output_type": "execute_result"
    }
   ],
   "source": [
    "db = sqlite3.connect(\"Hospital.db\")\n",
    "data = pd.read_sql_query(\"select * from LFT_data \",db)\n",
    "data"
   ]
  },
  {
   "cell_type": "code",
   "execution_count": 9,
   "metadata": {},
   "outputs": [],
   "source": [
    "\n",
    "x=data['date_of_data']"
   ]
  },
  {
   "cell_type": "code",
   "execution_count": 10,
   "metadata": {},
   "outputs": [
    {
     "data": {
      "image/png": "[encoded data removed]",
      "text/plain": [
       "<Figure size 432x288 with 1 Axes>"
      ]
     },
     "metadata": {
      "needs_background": "light"
     },
     "output_type": "display_data"
    }
   ],
   "source": [
    "#Graph for LFT protein\n",
    "y=data['total_protein']\n",
    "fig, ax = plt.subplots()\n",
    "ax.plot_date(x,y)\n",
    "fig.autofmt_xdate()\n"
   ]
  },
  {
   "cell_type": "code",
   "execution_count": 11,
   "metadata": {},
   "outputs": [
    {
     "data": {
      "image/png": "[encoded data removed]",
      "text/plain": [
       "<Figure size 432x288 with 1 Axes>"
      ]
     },
     "metadata": {
      "needs_background": "light"
     },
     "output_type": "display_data"
    }
   ],
   "source": [
    "# graph for albumin\n",
    "y=data['albumin']\n",
    "fig, ax = plt.subplots()\n",
    "ax.plot_date(x,y)\n",
    "fig.autofmt_xdate()\n",
    "\n"
   ]
  },
  {
   "cell_type": "code",
   "execution_count": 12,
   "metadata": {},
   "outputs": [
    {
     "data": {
      "image/png": "[encoded data removed]",
      "text/plain": [
       "<Figure size 432x288 with 1 Axes>"
      ]
     },
     "metadata": {
      "needs_background": "light"
     },
     "output_type": "display_data"
    }
   ],
   "source": [
    "# graph for alt_sgpt\n",
    "\n",
    "y=data['alt_sgpt']\n",
    "fig, ax = plt.subplots()\n",
    "ax.plot_date(x,y)\n",
    "fig.autofmt_xdate()"
   ]
  },
  {
   "cell_type": "code",
   "execution_count": 13,
   "metadata": {},
   "outputs": [
    {
     "data": {
      "image/png": "[encoded data removed]",
      "text/plain": [
       "<Figure size 432x288 with 1 Axes>"
      ]
     },
     "metadata": {
      "needs_background": "light"
     },
     "output_type": "display_data"
    }
   ],
   "source": [
    "# graph for ast_sgot\n",
    "y=data['ast_sgot']\n",
    "fig, ax = plt.subplots()\n",
    "ax.plot_date(x,y)\n",
    "fig.autofmt_xdate()"
   ]
  },
  {
   "cell_type": "code",
   "execution_count": 14,
   "metadata": {},
   "outputs": [
    {
     "data": {
      "image/png": "[encoded data removed]",
      "text/plain": [
       "<Figure size 432x288 with 1 Axes>"
      ]
     },
     "metadata": {
      "needs_background": "light"
     },
     "output_type": "display_data"
    }
   ],
   "source": [
    "# graph for bibirubin_total\n",
    "y=data['bibirubin_total']\n",
    "fig, ax = plt.subplots()\n",
    "ax.plot_date(x,y)\n",
    "fig.autofmt_xdate()"
   ]
  },
  {
   "cell_type": "code",
   "execution_count": 15,
   "metadata": {},
   "outputs": [
    {
     "data": {
      "image/png": "[encoded data removed]",
      "text/plain": [
       "<Figure size 432x288 with 1 Axes>"
      ]
     },
     "metadata": {
      "needs_background": "light"
     },
     "output_type": "display_data"
    }
   ],
   "source": [
    "#graph for bilirubin_congugated\n",
    "y=data['bilirubin_congugated']\n",
    "fig, ax = plt.subplots()\n",
    "ax.plot_date(x,y)\n",
    "fig.autofmt_xdate()"
   ]
  },
  {
   "cell_type": "code",
   "execution_count": 16,
   "metadata": {},
   "outputs": [
    {
     "data": {
      "image/png": "[encoded data removed]",
      "text/plain": [
       "<Figure size 432x288 with 1 Axes>"
      ]
     },
     "metadata": {
      "needs_background": "light"
     },
     "output_type": "display_data"
    }
   ],
   "source": [
    "# graph for bilirubin_uncongugated\n",
    "\n",
    "y=data['bilirubin_uncongugated']\n",
    "fig, ax = plt.subplots()\n",
    "ax.plot_date(x,y)\n",
    "fig.autofmt_xdate()\n"
   ]
  },
  {
   "cell_type": "code",
   "execution_count": 17,
   "metadata": {},
   "outputs": [
    {
     "data": {
      "image/png": "[encoded data removed]",
      "text/plain": [
       "<Figure size 432x288 with 1 Axes>"
      ]
     },
     "metadata": {
      "needs_background": "light"
     },
     "output_type": "display_data"
    }
   ],
   "source": [
    "# graph for alkaline_phospahase\n",
    "y=data['alkaline_phospahase']\n",
    "fig, ax = plt.subplots()\n",
    "ax.plot_date(x,y)\n",
    "fig.autofmt_xdate()\n"
   ]
  },
  {
   "cell_type": "code",
   "execution_count": null,
   "metadata": {},
   "outputs": [],
   "source": []
  }
 ],
 "metadata": {
  "interpreter": {
   "hash": "6fa8c4a0213b3e8e46e64ca221d4ef2f7254b1e53b83d6209b624a99d7aa7db4"
  },
  "kernelspec": {
   "display_name": "Python 3.8.5 32-bit",
   "language": "python",
   "name": "python3"
  },
  "language_info": {
   "codemirror_mode": {
    "name": "ipython",
    "version": 3
   },
   "file_extension": ".py",
   "mimetype": "text/x-python",
   "name": "python",
   "nbconvert_exporter": "python",
   "pygments_lexer": "ipython3",
   "version": "3.8.5"
  },
  "orig_nbformat": 4
 },
 "nbformat": 4,
 "nbformat_minor": 2
}
